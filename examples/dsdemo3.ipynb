{
 "metadata": {
  "name": "",
  "signature": "sha256:fe1bc9b4f4bfe626ffbb7096ba36bfc36735bf870182ab5f9d0337b973751444"
 },
 "nbformat": 3,
 "nbformat_minor": 0,
 "worksheets": [
  {
   "cells": [
    {
     "cell_type": "code",
     "collapsed": false,
     "input": [
      "%pylab inline"
     ],
     "language": "python",
     "metadata": {},
     "outputs": [
      {
       "output_type": "stream",
       "stream": "stdout",
       "text": [
        "Populating the interactive namespace from numpy and matplotlib\n"
       ]
      }
     ],
     "prompt_number": 1
    },
    {
     "cell_type": "code",
     "collapsed": false,
     "input": [
      "from __future__ import print_function\n",
      "from deltasigma import *\n",
      "from IPython.core.display import Image"
     ],
     "language": "python",
     "metadata": {},
     "outputs": [],
     "prompt_number": 2
    },
    {
     "cell_type": "code",
     "collapsed": false,
     "input": [
      "# skip this, this is just to display nice tables.\n",
      "from itertools import izip_longest\n",
      "class Table(list):\n",
      "    def _repr_html_(self):\n",
      "        html = [\"<table>\"]\n",
      "        for row in self:\n",
      "            html.append(\"<tr>\")\n",
      "            for col in row:\n",
      "                try:\n",
      "                    float(col)\n",
      "                    html.append(\"<td>%.6f</td>\" % col)\n",
      "                except(ValueError):\n",
      "                    html.append(\"<td><b>%s</b></td>\" % col)\n",
      "            html.append(\"</tr>\")\n",
      "        html.append(\"</table>\")\n",
      "        return ''.join(html)"
     ],
     "language": "python",
     "metadata": {},
     "outputs": [],
     "prompt_number": 3
    },
    {
     "cell_type": "heading",
     "level": 1,
     "metadata": {},
     "source": [
      "Modulator realization and dynamic range scaling - # demo3"
     ]
    },
    {
     "cell_type": "markdown",
     "metadata": {},
     "source": [
      "In this ipython notebook, the following is demonstrated:\n",
      "\n",
      " * A 5th order delta sigma modulator is synthesized, with optimized zeros and an OSR equal to 42.\n",
      "\n",
      " * We then convert the synthesized NTF into `a`, `g`, `b`, `c` coefficients for the `CRFB` modulator structure.\n",
      " \n",
      " * The maxima for each state are evaluated.\n",
      " \n",
      " * The `ABCD` matrix is scaled so that the state maxima are less than the specified limit.\n",
      "\n",
      " * The state maxima are re-evaluated and limit compliance is checked.\n",
      "\n",
      "**NOTE:** This is an ipython port of `dsdemo3.m`, from the **[MATLAB Delta Sigma Toolbox](http://www.mathworks.com/matlabcentral/fileexchange/19-delta-sigma-toolbox)**, written by Richard Schreier."
     ]
    },
    {
     "cell_type": "markdown",
     "metadata": {},
     "source": [
      "## Delta sigma modulator synthesis"
     ]
    },
    {
     "cell_type": "code",
     "collapsed": false,
     "input": [
      "order = 5\n",
      "R = 42\n",
      "opt = 1\n",
      "H = synthesizeNTF(order, R, opt)"
     ],
     "language": "python",
     "metadata": {},
     "outputs": [],
     "prompt_number": 4
    },
    {
     "cell_type": "markdown",
     "metadata": {},
     "source": [
      "Let's inspect the NTF, printing out the transfer function and plotting poles and zeros with respect to the unit circle."
     ]
    },
    {
     "cell_type": "code",
     "collapsed": false,
     "input": [
      "print(pretty_lti(H))"
     ],
     "language": "python",
     "metadata": {},
     "outputs": [
      {
       "output_type": "stream",
       "stream": "stdout",
       "text": [
        "        (z^2 - 1.995z + 1) (z^2 - 1.998z + 1) (z - 1)         \n",
        "--------------------------------------------------------------\n",
        " (z^2 - 1.614z + 0.6657) (z^2 - 1.797z + 0.8552) (z - 0.7783) \n"
       ]
      }
     ],
     "prompt_number": 5
    },
    {
     "cell_type": "code",
     "collapsed": false,
     "input": [
      "figure(figsize=(10, 5))\n",
      "plotPZ(H, showlist=True)\n",
      "title('NTF');"
     ],
     "language": "python",
     "metadata": {},
     "outputs": [
      {
       "metadata": {},
       "output_type": "display_data",
       "png": "[encoded data removed]",
       "text": [
        "<matplotlib.figure.Figure at 0xad53b8c>"
       ]
      }
     ],
     "prompt_number": 6
    },
    {
     "cell_type": "markdown",
     "metadata": {},
     "source": [
      "## Evaluation of the coefficients for a CRFB topology\n",
      "The CRFB topology is depicted in the following diagram."
     ]
    },
    {
     "cell_type": "code",
     "collapsed": false,
     "input": [
      "Image(url='http://python-deltasigma.readthedocs.org/en/latest/_images/CRFB.png', retina=True)"
     ],
     "language": "python",
     "metadata": {},
     "outputs": [
      {
       "html": [
        "<img src=\"http://python-deltasigma.readthedocs.org/en/latest/_images/CRFB.png\"/>"
       ],
       "metadata": {},
       "output_type": "pyout",
       "prompt_number": 7,
       "text": [
        "<IPython.core.display.Image at 0xa8ae38c>"
       ]
      }
     ],
     "prompt_number": 7
    },
    {
     "cell_type": "markdown",
     "metadata": {},
     "source": [
      "Since the modulator order is 5, we're interested in the topology for odd order modulators."
     ]
    },
    {
     "cell_type": "markdown",
     "metadata": {},
     "source": [
      "## Unscaled modulator"
     ]
    },
    {
     "cell_type": "markdown",
     "metadata": {},
     "source": [
      "### Calculate the coefficients"
     ]
    },
    {
     "cell_type": "code",
     "collapsed": false,
     "input": [
      "a, g, b, c = realizeNTF(H)"
     ],
     "language": "python",
     "metadata": {},
     "outputs": [],
     "prompt_number": 8
    },
    {
     "cell_type": "markdown",
     "metadata": {},
     "source": [
      "### Feed-in selection\n",
      "We'll use a single feed-in for the input, to have a maximally flat STF.\n",
      "\n",
      "This means setting $\\ b_n = 0, \\ \\forall n > 1$."
     ]
    },
    {
     "cell_type": "code",
     "collapsed": false,
     "input": [
      "b = np.concatenate((b[0].reshape((1, )), np.zeros((b.shape[0] - 1, ))), axis=0)"
     ],
     "language": "python",
     "metadata": {},
     "outputs": [],
     "prompt_number": 9
    },
    {
     "cell_type": "code",
     "collapsed": false,
     "input": [
      "t = Table()\n",
      "ilabels = ['#1', '#2', '#3', '#4', '#5', '#6']\n",
      "t.append(['Coefficients', 'DAC feedback', 'Resonator feedback', \n",
      "          'Feed-in', 'Interstage'])\n",
      "t.append(['', 'a(n)', 'g(n)', ' b(n)', ' c(n)'])\n",
      "[t.append(x) for x in izip_longest(ilabels, a.tolist(), g.tolist(), b.tolist(), c.tolist(), fillvalue=\"\")]\n",
      "t"
     ],
     "language": "python",
     "metadata": {},
     "outputs": [
      {
       "html": [
        "<table><tr><td><b>Coefficients</b></td><td><b>DAC feedback</b></td><td><b>Resonator feedback</b></td><td><b>Feed-in</b></td><td><b>Interstage</b></td></tr><tr><td><b></b></td><td><b>a(n)</b></td><td><b>g(n)</b></td><td><b> b(n)</b></td><td><b> c(n)</b></td></tr><tr><td><b>#1</b></td><td>0.000667</td><td>0.001622</td><td>0.000667</td><td>1.000000</td></tr><tr><td><b>#2</b></td><td>0.008583</td><td>0.004593</td><td>0.000000</td><td>1.000000</td></tr><tr><td><b>#3</b></td><td>0.055201</td><td><b></b></td><td>0.000000</td><td>1.000000</td></tr><tr><td><b>#4</b></td><td>0.247607</td><td><b></b></td><td>0.000000</td><td>1.000000</td></tr><tr><td><b>#5</b></td><td>0.556935</td><td><b></b></td><td>0.000000</td><td>1.000000</td></tr><tr><td><b>#6</b></td><td><b></b></td><td><b></b></td><td>0.000000</td><td><b></b></td></tr></table>"
       ],
       "metadata": {},
       "output_type": "pyout",
       "prompt_number": 10,
       "text": [
        "[['Coefficients',\n",
        "  'DAC feedback',\n",
        "  'Resonator feedback',\n",
        "  'Feed-in',\n",
        "  'Interstage'],\n",
        " ['', 'a(n)', 'g(n)', ' b(n)', ' c(n)'],\n",
        " ('#1',\n",
        "  0.0006670795813848548,\n",
        "  0.001622050471799641,\n",
        "  0.0006670795813848548,\n",
        "  1.0),\n",
        " ('#2', 0.00858263528791858, 0.004592653480622877, 0.0, 1.0),\n",
        " ('#3', 0.05520145164490777, '', 0.0, 1.0),\n",
        " ('#4', 0.24760725165069095, '', 0.0, 1.0),\n",
        " ('#5', 0.5569351152496758, '', 0.0, 1.0),\n",
        " ('#6', '', '', 0.0, '')]"
       ]
      }
     ],
     "prompt_number": 10
    },
    {
     "cell_type": "markdown",
     "metadata": {},
     "source": [
      "### Calculate the state maxima"
     ]
    },
    {
     "cell_type": "code",
     "collapsed": false,
     "input": [
      "ABCD = stuffABCD(a, g, b, c);\n",
      "u = np.linspace(0, 0.6, 30);\n",
      "N = 1e4; \n",
      "T = np.ones((1, N))\n",
      "maxima = np.zeros((order, len(u)))\n",
      "for i in range(len(u)):\n",
      "    ui = u[i]\n",
      "    v, xn, xmax, _ = simulateDSM(ui*T, ABCD);\n",
      "    maxima[:, i] = np.squeeze(xmax)\n",
      "    if any(xmax > 1e2):\n",
      "        umax = ui;\n",
      "        u = u[:i+1];\n",
      "        maxima = maxima[:, :i]\n",
      "        break;\n",
      "# save the maxima\n",
      "prescale_maxima = np.copy(maxima)\n",
      "print('The state maxima have been evaluated through simulation.')"
     ],
     "language": "python",
     "metadata": {},
     "outputs": [
      {
       "output_type": "stream",
       "stream": "stdout",
       "text": [
        "The state maxima have been evaluated through simulation.\n"
       ]
      }
     ],
     "prompt_number": 11
    },
    {
     "cell_type": "markdown",
     "metadata": {},
     "source": [
      "### Plot of the state maxima"
     ]
    },
    {
     "cell_type": "code",
     "collapsed": false,
     "input": [
      "for i in range(order):\n",
      "    semilogy(u, maxima[i, :],'o-')\n",
      "    if not i:\n",
      "        hold(True)\n",
      "grid(True)\n",
      "xlabel('DC input')\n",
      "ylabel('Peak value')\n",
      "title('Simulated State Maxima')\n",
      "xlim([0, 0.6]) \n",
      "ylim([1e-4, 10]);"
     ],
     "language": "python",
     "metadata": {},
     "outputs": [
      {
       "metadata": {},
       "output_type": "display_data",
       "png": "[encoded data removed]",
       "text": [
        "<matplotlib.figure.Figure at 0xaf3886c>"
       ]
      }
     ],
     "prompt_number": 12
    },
    {
     "cell_type": "markdown",
     "metadata": {},
     "source": [
      "## Scaled modulator\n",
      "### Calculate the scaled coefficients"
     ]
    },
    {
     "cell_type": "code",
     "collapsed": false,
     "input": [
      "ABCDs, umax, _ = scaleABCD(ABCD, N_sim=1e5)\n",
      "as_, gs, bs, cs = mapABCD(ABCDs)\n",
      "print('\\nScaled modulator, umax = %.2f\\n' % umax)"
     ],
     "language": "python",
     "metadata": {},
     "outputs": [
      {
       "output_type": "stream",
       "stream": "stdout",
       "text": [
        "\n",
        "Scaled modulator, umax = 0.58\n",
        "\n"
       ]
      }
     ],
     "prompt_number": 13
    },
    {
     "cell_type": "code",
     "collapsed": false,
     "input": [
      "t = Table()\n",
      "ilabels = ['#1', '#2', '#3', '#4', '#5', '#6']\n",
      "t.append(['Coefficients', 'DAC feedback', 'Resonator feedback', \n",
      "          'Feed-in', 'Interstage'])\n",
      "t.append(['', 'a(n)', 'g(n)', ' b(n)', ' c(n)'])\n",
      "[t.append(x) for x in izip_longest(ilabels, as_.tolist(), gs.tolist(), bs.tolist(), cs.tolist(), fillvalue=\"\")]\n",
      "t"
     ],
     "language": "python",
     "metadata": {},
     "outputs": [
      {
       "html": [
        "<table><tr><td><b>Coefficients</b></td><td><b>DAC feedback</b></td><td><b>Resonator feedback</b></td><td><b>Feed-in</b></td><td><b>Interstage</b></td></tr><tr><td><b></b></td><td><b>a(n)</b></td><td><b>g(n)</b></td><td><b> b(n)</b></td><td><b> c(n)</b></td></tr><tr><td><b>#1</b></td><td>0.100298</td><td>0.008508</td><td>0.100298</td><td>0.135347</td></tr><tr><td><b>#2</b></td><td>0.174656</td><td>0.010817</td><td>0.000000</td><td>0.190649</td></tr><tr><td><b>#3</b></td><td>0.214165</td><td><b></b></td><td>0.000000</td><td>0.380271</td></tr><tr><td><b>#4</b></td><td>0.365304</td><td><b></b></td><td>0.000000</td><td>0.424567</td></tr><tr><td><b>#5</b></td><td>0.348852</td><td><b></b></td><td>0.000000</td><td>1.596478</td></tr><tr><td><b>#6</b></td><td><b></b></td><td><b></b></td><td>0.000000</td><td><b></b></td></tr></table>"
       ],
       "metadata": {},
       "output_type": "pyout",
       "prompt_number": 14,
       "text": [
        "[['Coefficients',\n",
        "  'DAC feedback',\n",
        "  'Resonator feedback',\n",
        "  'Feed-in',\n",
        "  'Interstage'],\n",
        " ['', 'a(n)', 'g(n)', ' b(n)', ' c(n)'],\n",
        " ('#1',\n",
        "  0.10029776281150876,\n",
        "  0.008508036472780891,\n",
        "  0.10029776281150876,\n",
        "  0.13534708993993422),\n",
        " ('#2', 0.1746558669940846, 0.010817262174793148, 0.0, 0.19064921465592474),\n",
        " ('#3', 0.21416477448384996, '', 0.0, 0.38027088891160843),\n",
        " ('#4', 0.36530362444711645, '', 0.0, 0.42456708605296417),\n",
        " ('#5', 0.3488522641362608, '', 0.0, 1.5964784308584519),\n",
        " ('#6', '', '', 0.0, '')]"
       ]
      }
     ],
     "prompt_number": 14
    },
    {
     "cell_type": "markdown",
     "metadata": {},
     "source": [
      "### Calculate the state maxima"
     ]
    },
    {
     "cell_type": "code",
     "collapsed": false,
     "input": [
      "u = np.linspace(0, umax, 30)\n",
      "N = 1e4\n",
      "T = np.ones((N,))\n",
      "maxima = np.zeros((order, len(u)))\n",
      "for i in range(len(u)):\n",
      "    ui = u[i]\n",
      "    v, xn, xmax, _ = simulateDSM(ui*T, ABCDs)\n",
      "    maxima[:, i] = xmax.squeeze()\n",
      "    if any(xmax > 1e2):\n",
      "        umax = ui;\n",
      "        u = u[:i]\n",
      "        maxima = maxima[:, :i]\n",
      "        break\n",
      "print('The state maxima have been re-evaluated through simulation.')\n",
      "print(\"The maximum input was found to be %.6f\" % umax)"
     ],
     "language": "python",
     "metadata": {},
     "outputs": [
      {
       "output_type": "stream",
       "stream": "stdout",
       "text": [
        "The state maxima have been re-evaluated through simulation.\n",
        "The maximum input was found to be 0.583333\n"
       ]
      }
     ],
     "prompt_number": 15
    },
    {
     "cell_type": "markdown",
     "metadata": {},
     "source": [
      "### Plot of the state maxima after scaling"
     ]
    },
    {
     "cell_type": "code",
     "collapsed": false,
     "input": [
      "for i in range(order):\n",
      "    semilogy(u, maxima[i, :], 'o-')\n",
      "    if not i:\n",
      "        hold(True)\n",
      "grid(True)\n",
      "ylabel('Peak value')\n",
      "xlabel('DC input')\n",
      "xlim([0, 0.6])\n",
      "ylim([4e-2, 4]);"
     ],
     "language": "python",
     "metadata": {},
     "outputs": [
      {
       "metadata": {},
       "output_type": "display_data",
       "png": "[encoded data removed]",
       "text": [
        "<matplotlib.figure.Figure at 0xa8a6d6c>"
       ]
      }
     ],
     "prompt_number": 16
    },
    {
     "cell_type": "markdown",
     "metadata": {},
     "source": [
      "### System version information"
     ]
    },
    {
     "cell_type": "code",
     "collapsed": false,
     "input": [
      "#%install_ext http://raw.github.com/jrjohansson/version_information/master/version_information.py\n",
      "%load_ext version_information\n",
      "%reload_ext version_information\n",
      "\n",
      "%version_information numpy, scipy, matplotlib, deltasigma"
     ],
     "language": "python",
     "metadata": {},
     "outputs": [
      {
       "html": [
        "<table><tr><th>Software</th><th>Version</th></tr><tr><td>Python</td><td>2.7.5+ (default, Sep 17 2013, 17:31:54) [GCC 4.8.1]</td></tr><tr><td>IPython</td><td>2.0.0</td></tr><tr><td>OS</td><td>posix [linux2]</td></tr><tr><td>numpy</td><td>1.8.0</td></tr><tr><td>scipy</td><td>0.13.0</td></tr><tr><td>matplotlib</td><td>1.3.1</td></tr><tr><td>deltasigma</td><td>0.1-2</td></tr><tr><td colspan='2'>Sat May 03 11:16:57 2014 CEST</td></tr></table>"
       ],
       "json": [
        "{\"Software versions\": [{\"version\": \"2.7.5+ (default, Sep 17 2013, 17:31:54) [GCC 4.8.1]\", \"module\": \"Python\"}, {\"version\": \"2.0.0\", \"module\": \"IPython\"}, {\"version\": \"posix [linux2]\", \"module\": \"OS\"}, {\"version\": \"1.8.0\", \"module\": \"numpy\"}, {\"version\": \"0.13.0\", \"module\": \"scipy\"}, {\"version\": \"1.3.1\", \"module\": \"matplotlib\"}, {\"version\": \"0.1-2\", \"module\": \"deltasigma\"}]}"
       ],
       "latex": [
        "\\begin{tabular}{|l|l|}\\hline\n",
        "{\\bf Software} & {\\bf Version} \\\\ \\hline\\hline\n",
        "Python & 2.7.5+ (default, Sep 17 2013, 17:31:54) [GCC 4.8.1] \\\\ \\hline\n",
        "IPython & 2.0.0 \\\\ \\hline\n",
        "OS & posix [linux2] \\\\ \\hline\n",
        "numpy & 1.8.0 \\\\ \\hline\n",
        "scipy & 0.13.0 \\\\ \\hline\n",
        "matplotlib & 1.3.1 \\\\ \\hline\n",
        "deltasigma & 0.1-2 \\\\ \\hline\n",
        "\\hline \\multicolumn{2}{|l|}{Sat May 03 11:16:57 2014 CEST} \\\\ \\hline\n",
        "\\end{tabular}\n"
       ],
       "metadata": {},
       "output_type": "pyout",
       "prompt_number": 17,
       "text": [
        "Software versions\n",
        "Python 2.7.5+ (default, Sep 17 2013, 17:31:54) [GCC 4.8.1]\n",
        "IPython 2.0.0\n",
        "OS posix [linux2]\n",
        "numpy 1.8.0\n",
        "scipy 0.13.0\n",
        "matplotlib 1.3.1\n",
        "deltasigma 0.1-2\n",
        "<tr><td colspan='2'>Sat May 03 11:16:57 2014 CEST</td></tr>"
       ]
      }
     ],
     "prompt_number": 17
    }
   ],
   "metadata": {}
  }
 ]
}