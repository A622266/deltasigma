{
 "metadata": {
  "name": "",
  "signature": "sha256:cf8a8fc13ae83e9b831f55806e2fdb9830b47be1f45e666171b0ee04cc86a17a"
 },
 "nbformat": 3,
 "nbformat_minor": 0,
 "worksheets": [
  {
   "cells": [
    {
     "cell_type": "code",
     "collapsed": false,
     "input": [
      "%pylab inline"
     ],
     "language": "python",
     "metadata": {},
     "outputs": [
      {
       "output_type": "stream",
       "stream": "stdout",
       "text": [
        "Populating the interactive namespace from numpy and matplotlib\n"
       ]
      }
     ],
     "prompt_number": 1
    },
    {
     "cell_type": "code",
     "collapsed": false,
     "input": [
      "from __future__ import print_function\n",
      "from deltasigma import *\n",
      "from IPython.core.display import Image"
     ],
     "language": "python",
     "metadata": {},
     "outputs": [],
     "prompt_number": 2
    },
    {
     "cell_type": "code",
     "collapsed": false,
     "input": [
      "# skip this, this is just to display nice tables.\n",
      "from itertools import izip_longest\n",
      "class Table(list):\n",
      "    def _repr_html_(self):\n",
      "        html = [\"<table>\"]\n",
      "        for row in self:\n",
      "            html.append(\"<tr>\")\n",
      "            for col in row:\n",
      "                try:\n",
      "                    float(col)\n",
      "                    html.append(\"<td>%.6f</td>\" % col)\n",
      "                except(ValueError):\n",
      "                    html.append(\"<td><b>%s</b></td>\" % col)\n",
      "            html.append(\"</tr>\")\n",
      "        html.append(\"</table>\")\n",
      "        return ''.join(html)"
     ],
     "language": "python",
     "metadata": {},
     "outputs": [],
     "prompt_number": 3
    },
    {
     "cell_type": "heading",
     "level": 1,
     "metadata": {},
     "source": [
      "Modulator realization and dynamic range scaling - # demo3"
     ]
    },
    {
     "cell_type": "markdown",
     "metadata": {},
     "source": [
      "In this ipython notebook, the following is demonstrated:\n",
      "\n",
      " * A 5th order delta sigma modulator is synthesized, with optimized zeros and an OSR equal to 42.\n",
      "\n",
      " * We then convert the synthesized NTF into `a`, `g`, `b`, `c` coefficients for the `CRFB` modulator structure.\n",
      " \n",
      " * The maxima for each state are evaluated.\n",
      " \n",
      " * The `ABCD` matrix is scaled so that the state maxima are less than the specified limit.\n",
      "\n",
      " * The state maxima are re-evaluated and limit compliance is checked.\n",
      "\n",
      "**NOTE:** This is an ipython port of `dsdemo3.m`, from the **[MATLAB Delta Sigma Toolbox](http://www.mathworks.com/matlabcentral/fileexchange/19-delta-sigma-toolbox)**, written by Richard Schreier."
     ]
    },
    {
     "cell_type": "markdown",
     "metadata": {},
     "source": [
      "## Delta sigma modulator synthesis"
     ]
    },
    {
     "cell_type": "code",
     "collapsed": false,
     "input": [
      "order = 5\n",
      "R = 42\n",
      "opt = 1\n",
      "H = synthesizeNTF(order, R, opt)"
     ],
     "language": "python",
     "metadata": {},
     "outputs": [],
     "prompt_number": 4
    },
    {
     "cell_type": "markdown",
     "metadata": {},
     "source": [
      "Let's inspect the NTF, printing out the transfer function and plotting poles and zeros with respect to the unit circle."
     ]
    },
    {
     "cell_type": "code",
     "collapsed": false,
     "input": [
      "print(pretty_lti(H))"
     ],
     "language": "python",
     "metadata": {},
     "outputs": [
      {
       "output_type": "stream",
       "stream": "stdout",
       "text": [
        "        (z^2 - 1.995z + 1) (z^2 - 1.998z + 1) (z - 1)         \n",
        "--------------------------------------------------------------\n",
        " (z^2 - 1.614z + 0.6657) (z^2 - 1.797z + 0.8552) (z - 0.7783) \n"
       ]
      }
     ],
     "prompt_number": 5
    },
    {
     "cell_type": "code",
     "collapsed": false,
     "input": [
      "figure(figsize=(10, 5))\n",
      "plotPZ(H, showlist=True)\n",
      "title('NTF');"
     ],
     "language": "python",
     "metadata": {},
     "outputs": [
      {
       "metadata": {},
       "output_type": "display_data",
       "png": "[encoded data removed]",
       "text": [
        "<matplotlib.figure.Figure at 0x10aff4150>"
       ]
      }
     ],
     "prompt_number": 6
    },
    {
     "cell_type": "markdown",
     "metadata": {},
     "source": [
      "## Evaluation of the coefficients for a CRFB topology\n",
      "The CRFB topology is depicted in the following diagram."
     ]
    },
    {
     "cell_type": "code",
     "collapsed": false,
     "input": [
      "Image(url='http://python-deltasigma.readthedocs.org/en/latest/_images/CRFB.png', retina=True)"
     ],
     "language": "python",
     "metadata": {},
     "outputs": [
      {
       "html": [
        "<img src=\"http://python-deltasigma.readthedocs.org/en/latest/_images/CRFB.png\"/>"
       ],
       "metadata": {},
       "output_type": "pyout",
       "prompt_number": 7,
       "text": [
        "<IPython.core.display.Image at 0x1007342d0>"
       ]
      }
     ],
     "prompt_number": 7
    },
    {
     "cell_type": "markdown",
     "metadata": {},
     "source": [
      "Since the modulator order is 5, we're interested in the topology for odd order modulators."
     ]
    },
    {
     "cell_type": "markdown",
     "metadata": {},
     "source": [
      "## Unscaled modulator"
     ]
    },
    {
     "cell_type": "markdown",
     "metadata": {},
     "source": [
      "### Calculate the coefficients"
     ]
    },
    {
     "cell_type": "code",
     "collapsed": false,
     "input": [
      "a, g, b, c = realizeNTF(H)"
     ],
     "language": "python",
     "metadata": {},
     "outputs": [],
     "prompt_number": 8
    },
    {
     "cell_type": "markdown",
     "metadata": {},
     "source": [
      "### Feed-in selection\n",
      "We'll use a single feed-in for the input, to have a maximally flat STF.\n",
      "\n",
      "This means setting $\\ b_n = 0, \\ \\forall n > 1$."
     ]
    },
    {
     "cell_type": "code",
     "collapsed": false,
     "input": [
      "b = np.concatenate((b[0].reshape((1, )), np.zeros((b.shape[0] - 1, ))), axis=0)"
     ],
     "language": "python",
     "metadata": {},
     "outputs": [],
     "prompt_number": 9
    },
    {
     "cell_type": "code",
     "collapsed": false,
     "input": [
      "t = Table()\n",
      "ilabels = ['#1', '#2', '#3', '#4', '#5', '#6']\n",
      "t.append(['Coefficients', 'DAC feedback', 'Resonator feedback', \n",
      "          'Feed-in', 'Interstage'])\n",
      "t.append(['', 'a(n)', 'g(n)', ' b(n)', ' c(n)'])\n",
      "[t.append(x) for x in izip_longest(ilabels, a.tolist(), g.tolist(), b.tolist(), c.tolist(), fillvalue=\"\")]\n",
      "t"
     ],
     "language": "python",
     "metadata": {},
     "outputs": [
      {
       "html": [
        "<table><tr><td><b>Coefficients</b></td><td><b>DAC feedback</b></td><td><b>Resonator feedback</b></td><td><b>Feed-in</b></td><td><b>Interstage</b></td></tr><tr><td><b></b></td><td><b>a(n)</b></td><td><b>g(n)</b></td><td><b> b(n)</b></td><td><b> c(n)</b></td></tr><tr><td><b>#1</b></td><td>0.000667</td><td>0.001622</td><td>0.000667</td><td>1.000000</td></tr><tr><td><b>#2</b></td><td>0.008583</td><td>0.004593</td><td>0.000000</td><td>1.000000</td></tr><tr><td><b>#3</b></td><td>0.055201</td><td><b></b></td><td>0.000000</td><td>1.000000</td></tr><tr><td><b>#4</b></td><td>0.247607</td><td><b></b></td><td>0.000000</td><td>1.000000</td></tr><tr><td><b>#5</b></td><td>0.556935</td><td><b></b></td><td>0.000000</td><td>1.000000</td></tr><tr><td><b>#6</b></td><td><b></b></td><td><b></b></td><td>0.000000</td><td><b></b></td></tr></table>"
       ],
       "metadata": {},
       "output_type": "pyout",
       "prompt_number": 10,
       "text": [
        "[['Coefficients',\n",
        "  'DAC feedback',\n",
        "  'Resonator feedback',\n",
        "  'Feed-in',\n",
        "  'Interstage'],\n",
        " ['', 'a(n)', 'g(n)', ' b(n)', ' c(n)'],\n",
        " ('#1',\n",
        "  0.0006670795813848786,\n",
        "  0.001622050471799641,\n",
        "  0.0006670795813848786,\n",
        "  1.0),\n",
        " ('#2', 0.00858263528791771, 0.004592653480622877, 0.0, 1.0),\n",
        " ('#3', 0.05520145164491604, '', 0.0, 1.0),\n",
        " ('#4', 0.2476072516506828, '', 0.0, 1.0),\n",
        " ('#5', 0.5569351152496502, '', 0.0, 1.0),\n",
        " ('#6', '', '', 0.0, '')]"
       ]
      }
     ],
     "prompt_number": 10
    },
    {
     "cell_type": "markdown",
     "metadata": {},
     "source": [
      "### Calculate the state maxima"
     ]
    },
    {
     "cell_type": "code",
     "collapsed": false,
     "input": [
      "ABCD = stuffABCD(a, g, b, c);\n",
      "u = np.linspace(0, 0.6, 30);\n",
      "N = 1e4; \n",
      "T = np.ones((1, N))\n",
      "maxima = np.zeros((order, len(u)))\n",
      "for i in range(len(u)):\n",
      "    ui = u[i]\n",
      "    v, xn, xmax, _ = simulateDSM(ui*T, ABCD);\n",
      "    maxima[:, i] = np.squeeze(xmax)\n",
      "    if any(xmax > 1e2):\n",
      "        umax = ui;\n",
      "        u = u[:i+1];\n",
      "        maxima = maxima[:, :i]\n",
      "        break;\n",
      "# save the maxima\n",
      "prescale_maxima = np.copy(maxima)\n",
      "print('The state maxima have been evaluated through simulation.')"
     ],
     "language": "python",
     "metadata": {},
     "outputs": [
      {
       "output_type": "stream",
       "stream": "stdout",
       "text": [
        "The state maxima have been evaluated through simulation.\n"
       ]
      }
     ],
     "prompt_number": 11
    },
    {
     "cell_type": "markdown",
     "metadata": {},
     "source": [
      "### Plot of the state maxima"
     ]
    },
    {
     "cell_type": "code",
     "collapsed": false,
     "input": [
      "for i in range(order):\n",
      "    semilogy(u, maxima[i, :],'o-')\n",
      "    if not i:\n",
      "        hold(True)\n",
      "grid(True)\n",
      "xlabel('DC input')\n",
      "ylabel('Peak value')\n",
      "title('Simulated State Maxima')\n",
      "xlim([0, 0.6]) \n",
      "ylim([1e-4, 10]);"
     ],
     "language": "python",
     "metadata": {},
     "outputs": [
      {
       "metadata": {},
       "output_type": "display_data",
       "png": "[encoded data removed]",
       "text": [
        "<matplotlib.figure.Figure at 0x10cbea050>"
       ]
      }
     ],
     "prompt_number": 12
    },
    {
     "cell_type": "markdown",
     "metadata": {},
     "source": [
      "## Scaled modulator\n",
      "### Calculate the scaled coefficients"
     ]
    },
    {
     "cell_type": "code",
     "collapsed": false,
     "input": [
      "ABCDs, umax, _ = scaleABCD(ABCD, N_sim=1e5)\n",
      "as_, gs, bs, cs = mapABCD(ABCDs)\n",
      "print('\\nScaled modulator, umax = %.2f\\n' % umax)"
     ],
     "language": "python",
     "metadata": {},
     "outputs": [
      {
       "output_type": "stream",
       "stream": "stdout",
       "text": [
        "\n",
        "Scaled modulator, umax = 0.58\n",
        "\n"
       ]
      }
     ],
     "prompt_number": 13
    },
    {
     "cell_type": "code",
     "collapsed": false,
     "input": [
      "t = Table()\n",
      "ilabels = ['#1', '#2', '#3', '#4', '#5', '#6']\n",
      "t.append(['Coefficients', 'DAC feedback', 'Resonator feedback', \n",
      "          'Feed-in', 'Interstage'])\n",
      "t.append(['', 'a(n)', 'g(n)', ' b(n)', ' c(n)'])\n",
      "[t.append(x) for x in izip_longest(ilabels, as_.tolist(), gs.tolist(), bs.tolist(), cs.tolist(), fillvalue=\"\")]\n",
      "t"
     ],
     "language": "python",
     "metadata": {},
     "outputs": [
      {
       "html": [
        "<table><tr><td><b>Coefficients</b></td><td><b>DAC feedback</b></td><td><b>Resonator feedback</b></td><td><b>Feed-in</b></td><td><b>Interstage</b></td></tr><tr><td><b></b></td><td><b>a(n)</b></td><td><b>g(n)</b></td><td><b> b(n)</b></td><td><b> c(n)</b></td></tr><tr><td><b>#1</b></td><td>0.100298</td><td>0.008508</td><td>0.100298</td><td>0.135347</td></tr><tr><td><b>#2</b></td><td>0.174656</td><td>0.010817</td><td>0.000000</td><td>0.190649</td></tr><tr><td><b>#3</b></td><td>0.214165</td><td><b></b></td><td>0.000000</td><td>0.380271</td></tr><tr><td><b>#4</b></td><td>0.365304</td><td><b></b></td><td>0.000000</td><td>0.424567</td></tr><tr><td><b>#5</b></td><td>0.348852</td><td><b></b></td><td>0.000000</td><td>1.596478</td></tr><tr><td><b>#6</b></td><td><b></b></td><td><b></b></td><td>0.000000</td><td><b></b></td></tr></table>"
       ],
       "metadata": {},
       "output_type": "pyout",
       "prompt_number": 14,
       "text": [
        "[['Coefficients',\n",
        "  'DAC feedback',\n",
        "  'Resonator feedback',\n",
        "  'Feed-in',\n",
        "  'Interstage'],\n",
        " ['', 'a(n)', 'g(n)', ' b(n)', ' c(n)'],\n",
        " ('#1',\n",
        "  0.1002977628115526,\n",
        "  0.008508036472714772,\n",
        "  0.1002977628115526,\n",
        "  0.1353470899398978),\n",
        " ('#2', 0.17465586699409, 0.01081726217175677, 0.0, 0.19064921465740636),\n",
        " ('#3', 0.21416477448557475, '', 0.0, 0.3802708889041198),\n",
        " ('#4', 0.3653036244427978, '', 0.0, 0.4245670861721391),\n",
        " ('#5', 0.348852264230054, '', 0.0, 1.5964784304291457),\n",
        " ('#6', '', '', 0.0, '')]"
       ]
      }
     ],
     "prompt_number": 14
    },
    {
     "cell_type": "markdown",
     "metadata": {},
     "source": [
      "### Calculate the state maxima"
     ]
    },
    {
     "cell_type": "code",
     "collapsed": false,
     "input": [
      "u = np.linspace(0, umax, 30)\n",
      "N = 1e4\n",
      "T = np.ones((N,))\n",
      "maxima = np.zeros((order, len(u)))\n",
      "for i in range(len(u)):\n",
      "    ui = u[i]\n",
      "    v, xn, xmax, _ = simulateDSM(ui*T, ABCDs)\n",
      "    maxima[:, i] = xmax.squeeze()\n",
      "    if any(xmax > 1e2):\n",
      "        umax = ui;\n",
      "        u = u[:i]\n",
      "        maxima = maxima[:, :i]\n",
      "        break\n",
      "print('The state maxima have been re-evaluated through simulation.')\n",
      "print(\"The maximum input was found to be %.6f\" % umax)"
     ],
     "language": "python",
     "metadata": {},
     "outputs": [
      {
       "output_type": "stream",
       "stream": "stdout",
       "text": [
        "The state maxima have been re-evaluated through simulation.\n",
        "The maximum input was found to be 0.583333\n"
       ]
      }
     ],
     "prompt_number": 15
    },
    {
     "cell_type": "markdown",
     "metadata": {},
     "source": [
      "### Plot of the state maxima after scaling"
     ]
    },
    {
     "cell_type": "code",
     "collapsed": false,
     "input": [
      "for i in range(order):\n",
      "    semilogy(u, maxima[i, :], 'o-')\n",
      "    if not i:\n",
      "        hold(True)\n",
      "grid(True)\n",
      "ylabel('Peak value')\n",
      "xlabel('DC input')\n",
      "xlim([0, 0.6])\n",
      "ylim([4e-2, 4]);"
     ],
     "language": "python",
     "metadata": {},
     "outputs": [
      {
       "metadata": {},
       "output_type": "display_data",
       "png": "[encoded data removed]",
       "text": [
        "<matplotlib.figure.Figure at 0x10d00e090>"
       ]
      }
     ],
     "prompt_number": 16
    },
    {
     "cell_type": "markdown",
     "metadata": {},
     "source": [
      "### System version information"
     ]
    },
    {
     "cell_type": "code",
     "collapsed": false,
     "input": [
      "#%install_ext http://raw.github.com/jrjohansson/version_information/master/version_information.py\n",
      "%load_ext version_information\n",
      "%reload_ext version_information\n",
      "\n",
      "%version_information numpy, scipy, matplotlib, deltasigma"
     ],
     "language": "python",
     "metadata": {},
     "outputs": [
      {
       "html": [
        "<table><tr><th>Software</th><th>Version</th></tr><tr><td>Python</td><td>2.7.8 |Anaconda 2.1.0 (x86_64)| (default, Aug 21 2014, 15:21:46) [GCC 4.2.1 (Apple Inc. build 5577)]</td></tr><tr><td>IPython</td><td>2.2.0</td></tr><tr><td>OS</td><td>posix [darwin]</td></tr><tr><td>numpy</td><td>1.9.1</td></tr><tr><td>scipy</td><td>0.14.0</td></tr><tr><td>matplotlib</td><td>1.4.2</td></tr><tr><td>deltasigma</td><td>0.1-9</td></tr><tr><td colspan='2'>Tue Nov 11 11:44:19 2014 CET</td></tr></table>"
       ],
       "json": [
        "{\"Software versions\": [{\"version\": \"2.7.8 |Anaconda 2.1.0 (x86_64)| (default, Aug 21 2014, 15:21:46) [GCC 4.2.1 (Apple Inc. build 5577)]\", \"module\": \"Python\"}, {\"version\": \"2.2.0\", \"module\": \"IPython\"}, {\"version\": \"posix [darwin]\", \"module\": \"OS\"}, {\"version\": \"1.9.1\", \"module\": \"numpy\"}, {\"version\": \"0.14.0\", \"module\": \"scipy\"}, {\"version\": \"1.4.2\", \"module\": \"matplotlib\"}, {\"version\": \"0.1-9\", \"module\": \"deltasigma\"}]}"
       ],
       "latex": [
        "\\begin{tabular}{|l|l|}\\hline\n",
        "{\\bf Software} & {\\bf Version} \\\\ \\hline\\hline\n",
        "Python & 2.7.8 |Anaconda 2.1.0 (x86\\letterunderscore{}64)| (default, Aug 21 2014, 15:21:46) [GCC 4.2.1 (Apple Inc. build 5577)] \\\\ \\hline\n",
        "IPython & 2.2.0 \\\\ \\hline\n",
        "OS & posix [darwin] \\\\ \\hline\n",
        "numpy & 1.9.1 \\\\ \\hline\n",
        "scipy & 0.14.0 \\\\ \\hline\n",
        "matplotlib & 1.4.2 \\\\ \\hline\n",
        "deltasigma & 0.1-9 \\\\ \\hline\n",
        "\\hline \\multicolumn{2}{|l|}{Tue Nov 11 11:44:19 2014 CET} \\\\ \\hline\n",
        "\\end{tabular}\n"
       ],
       "metadata": {},
       "output_type": "pyout",
       "prompt_number": 17,
       "text": [
        "Software versions\n",
        "Python 2.7.8 |Anaconda 2.1.0 (x86_64)| (default, Aug 21 2014, 15:21:46) [GCC 4.2.1 (Apple Inc. build 5577)]\n",
        "IPython 2.2.0\n",
        "OS posix [darwin]\n",
        "numpy 1.9.1\n",
        "scipy 0.14.0\n",
        "matplotlib 1.4.2\n",
        "deltasigma 0.1-9\n",
        "<tr><td colspan='2'>Tue Nov 11 11:44:19 2014 CET</td></tr>"
       ]
      }
     ],
     "prompt_number": 17
    }
   ],
   "metadata": {}
  }
 ]
}