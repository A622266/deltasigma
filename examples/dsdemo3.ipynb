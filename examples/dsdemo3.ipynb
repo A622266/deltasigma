{
 "cells": [
  {
   "cell_type": "code",
   "execution_count": 1,
   "metadata": {},
   "outputs": [],
   "source": [
    "%matplotlib inline\n",
    "import numpy as np\n",
    "import matplotlib.pyplot as plt"
   ]
  },
  {
   "cell_type": "code",
   "execution_count": 2,
   "metadata": {},
   "outputs": [],
   "source": [
    "from __future__ import print_function\n",
    "from deltasigma import *\n",
    "from IPython.core.display import Image"
   ]
  },
  {
   "cell_type": "code",
   "execution_count": 4,
   "metadata": {},
   "outputs": [],
   "source": [
    "# skip this, this is just to display nice tables.\n",
    "from itertools import zip_longest\n",
    "class Table(list):\n",
    "    def _repr_html_(self):\n",
    "        html = [\"<table>\"]\n",
    "        for row in self:\n",
    "            html.append(\"<tr>\")\n",
    "            for col in row:\n",
    "                try:\n",
    "                    float(col)\n",
    "                    html.append(\"<td>%.6f</td>\" % col)\n",
    "                except(ValueError):\n",
    "                    html.append(\"<td><b>%s</b></td>\" % col)\n",
    "            html.append(\"</tr>\")\n",
    "        html.append(\"</table>\")\n",
    "        return ''.join(html)"
   ]
  },
  {
   "cell_type": "markdown",
   "metadata": {},
   "source": [
    "# Modulator realization and dynamic range scaling - # demo3"
   ]
  },
  {
   "cell_type": "markdown",
   "metadata": {},
   "source": [
    "In this ipython notebook, the following is demonstrated:\n",
    "\n",
    " * A 5th order delta sigma modulator is synthesized, with optimized zeros and an OSR equal to 42.\n",
    "\n",
    " * We then convert the synthesized NTF into `a`, `g`, `b`, `c` coefficients for the `CRFB` modulator structure.\n",
    " \n",
    " * The maxima for each state are evaluated.\n",
    " \n",
    " * The `ABCD` matrix is scaled so that the state maxima are less than the specified limit.\n",
    "\n",
    " * The state maxima are re-evaluated and limit compliance is checked.\n",
    "\n",
    "**NOTE:** This is an ipython port of `dsdemo3.m`, from the **[MATLAB Delta Sigma Toolbox](http://www.mathworks.com/matlabcentral/fileexchange/19-delta-sigma-toolbox)**, written by Richard Schreier."
   ]
  },
  {
   "cell_type": "markdown",
   "metadata": {},
   "source": [
    "## Delta sigma modulator synthesis"
   ]
  },
  {
   "cell_type": "code",
   "execution_count": 5,
   "metadata": {},
   "outputs": [],
   "source": [
    "order = 5\n",
    "R = 42\n",
    "opt = 1\n",
    "H = synthesizeNTF(order, R, opt)"
   ]
  },
  {
   "cell_type": "markdown",
   "metadata": {},
   "source": [
    "Let's inspect the NTF, printing out the transfer function and plotting poles and zeros with respect to the unit circle."
   ]
  },
  {
   "cell_type": "code",
   "execution_count": 6,
   "metadata": {},
   "outputs": [
    {
     "name": "stdout",
     "output_type": "stream",
     "text": [
      "        (z^2 - 1.995z + 1) (z^2 - 1.998z + 1) (z - 1)         \n",
      "--------------------------------------------------------------\n",
      " (z^2 - 1.614z + 0.6657) (z^2 - 1.797z + 0.8552) (z - 0.7783) \n"
     ]
    }
   ],
   "source": [
    "print(pretty_lti(H))"
   ]
  },
  {
   "cell_type": "code",
   "execution_count": 9,
   "metadata": {},
   "outputs": [
    {
     "data": {
      "image/png": "[encoded data removed]",
      "text/plain": [
       "<Figure size 432x288 with 1 Axes>"
      ]
     },
     "metadata": {
      "needs_background": "light"
     },
     "output_type": "display_data"
    }
   ],
   "source": [
    "#plt.figure(figsize=(10, 5))\n",
    "plt.figure()\n",
    "plotPZ(H, showlist=True)\n",
    "plt.title('NTF');"
   ]
  },
  {
   "cell_type": "markdown",
   "metadata": {},
   "source": [
    "## Evaluation of the coefficients for a CRFB topology\n",
    "The CRFB topology is depicted in the following diagram."
   ]
  },
  {
   "cell_type": "code",
   "execution_count": 7,
   "metadata": {},
   "outputs": [
    {
     "data": {
      "text/html": [
       "<img src=\"http://python-deltasigma.readthedocs.org/en/latest/_images/CRFB.png\"/>"
      ],
      "text/plain": [
       "<IPython.core.display.Image object>"
      ]
     },
     "execution_count": 7,
     "metadata": {},
     "output_type": "execute_result"
    }
   ],
   "source": [
    "Image(url='http://python-deltasigma.readthedocs.org/en/latest/_images/CRFB.png', retina=True)"
   ]
  },
  {
   "cell_type": "markdown",
   "metadata": {},
   "source": [
    "Since the modulator order is 5, we're interested in the topology for odd order modulators."
   ]
  },
  {
   "cell_type": "markdown",
   "metadata": {},
   "source": [
    "## Unscaled modulator"
   ]
  },
  {
   "cell_type": "markdown",
   "metadata": {},
   "source": [
    "### Calculate the coefficients"
   ]
  },
  {
   "cell_type": "code",
   "execution_count": 10,
   "metadata": {},
   "outputs": [
    {
     "name": "stderr",
     "output_type": "stream",
     "text": [
      "C:\\Users\\yuki1\\.julia\\conda\\3\\envs\\dev_python\\lib\\site-packages\\deltasigma-0.2.2-py3.7.egg\\deltasigma\\_realizeNTF.py:149: FutureWarning: `rcond` parameter will change to the default of machine precision times ``max(M, N)`` where M and N are the input matrix dimensions.\n",
      "To use the future default and silence this warning we advise to pass `rcond=None`, to keep using the old, explicitly pass `rcond=-1`.\n",
      "  a = -np.real(np.linalg.lstsq(T.T, L1.T)[0]).T\n"
     ]
    }
   ],
   "source": [
    "a, g, b, c = realizeNTF(H)"
   ]
  },
  {
   "cell_type": "markdown",
   "metadata": {},
   "source": [
    "### Feed-in selection\n",
    "We'll use a single feed-in for the input, to have a maximally flat STF.\n",
    "\n",
    "This means setting $\\ b_n = 0, \\ \\forall n > 1$."
   ]
  },
  {
   "cell_type": "code",
   "execution_count": 11,
   "metadata": {},
   "outputs": [],
   "source": [
    "b = np.concatenate((b[0].reshape((1, )), np.zeros((b.shape[0] - 1, ))), axis=0)"
   ]
  },
  {
   "cell_type": "code",
   "execution_count": 13,
   "metadata": {},
   "outputs": [
    {
     "data": {
      "text/html": [
       "<table><tr><td><b>Coefficients</b></td><td><b>DAC feedback</b></td><td><b>Resonator feedback</b></td><td><b>Feed-in</b></td><td><b>Interstage</b></td></tr><tr><td><b></b></td><td><b>a(n)</b></td><td><b>g(n)</b></td><td><b> b(n)</b></td><td><b> c(n)</b></td></tr><tr><td><b>#1</b></td><td>0.000667</td><td>0.001622</td><td>0.000667</td><td>1.000000</td></tr><tr><td><b>#2</b></td><td>0.008583</td><td>0.004593</td><td>0.000000</td><td>1.000000</td></tr><tr><td><b>#3</b></td><td>0.055201</td><td><b></b></td><td>0.000000</td><td>1.000000</td></tr><tr><td><b>#4</b></td><td>0.247607</td><td><b></b></td><td>0.000000</td><td>1.000000</td></tr><tr><td><b>#5</b></td><td>0.556935</td><td><b></b></td><td>0.000000</td><td>1.000000</td></tr><tr><td><b>#6</b></td><td><b></b></td><td><b></b></td><td>0.000000</td><td><b></b></td></tr></table>"
      ],
      "text/plain": [
       "[['Coefficients',\n",
       "  'DAC feedback',\n",
       "  'Resonator feedback',\n",
       "  'Feed-in',\n",
       "  'Interstage'],\n",
       " ['', 'a(n)', 'g(n)', ' b(n)', ' c(n)'],\n",
       " ('#1',\n",
       "  0.0006670795813848781,\n",
       "  0.001622050471799641,\n",
       "  0.0006670795813848781,\n",
       "  1.0),\n",
       " ('#2', 0.00858263528791746, 0.004592653480622877, 0.0, 1.0),\n",
       " ('#3', 0.0552014516449193, '', 0.0, 1.0),\n",
       " ('#4', 0.2476072516506782, '', 0.0, 1.0),\n",
       " ('#5', 0.556935115249646, '', 0.0, 1.0),\n",
       " ('#6', '', '', 0.0, '')]"
      ]
     },
     "execution_count": 13,
     "metadata": {},
     "output_type": "execute_result"
    }
   ],
   "source": [
    "t = Table()\n",
    "ilabels = ['#1', '#2', '#3', '#4', '#5', '#6']\n",
    "t.append(['Coefficients', 'DAC feedback', 'Resonator feedback', \n",
    "          'Feed-in', 'Interstage'])\n",
    "t.append(['', 'a(n)', 'g(n)', ' b(n)', ' c(n)'])\n",
    "[t.append(x) for x in zip_longest(ilabels, a.tolist(), g.tolist(), b.tolist(), c.tolist(), fillvalue=\"\")]\n",
    "t"
   ]
  },
  {
   "cell_type": "markdown",
   "metadata": {},
   "source": [
    "### Calculate the state maxima"
   ]
  },
  {
   "cell_type": "code",
   "execution_count": 15,
   "metadata": {},
   "outputs": [
    {
     "name": "stderr",
     "output_type": "stream",
     "text": [
      "C:\\Users\\yuki1\\.julia\\conda\\3\\envs\\dev_python\\lib\\site-packages\\deltasigma-0.2.2-py3.7.egg\\deltasigma\\_simulateDSM.py:214: UserWarning: Using a slow implementation of simulateDSM\n",
      "Refer to the docs for how to switch to a fast one\n",
      "  warn('Using a slow implementation of simulateDSM\\n' +\n"
     ]
    },
    {
     "name": "stdout",
     "output_type": "stream",
     "text": [
      "The state maxima have been evaluated through simulation.\n"
     ]
    }
   ],
   "source": [
    "ABCD = stuffABCD(a, g, b, c);\n",
    "u = np.linspace(0, 0.6, 30);\n",
    "N = 10000; \n",
    "T = np.ones((1, N))\n",
    "maxima = np.zeros((order, len(u)))\n",
    "for i in range(len(u)):\n",
    "    ui = u[i]\n",
    "    v, xn, xmax, _ = simulateDSM(ui*T, ABCD);\n",
    "    maxima[:, i] = np.squeeze(xmax)\n",
    "    if any(xmax > 1e2):\n",
    "        umax = ui;\n",
    "        u = u[:i];\n",
    "        maxima = maxima[:, :i]\n",
    "        break;\n",
    "# save the maxima\n",
    "prescale_maxima = np.copy(maxima)\n",
    "print('The state maxima have been evaluated through simulation.')"
   ]
  },
  {
   "cell_type": "markdown",
   "metadata": {},
   "source": [
    "### Plot of the state maxima"
   ]
  },
  {
   "cell_type": "code",
   "execution_count": 16,
   "metadata": {},
   "outputs": [
    {
     "data": {
      "image/png": "[encoded data removed]",
      "text/plain": [
       "<Figure size 432x288 with 1 Axes>"
      ]
     },
     "metadata": {
      "needs_background": "light"
     },
     "output_type": "display_data"
    }
   ],
   "source": [
    "for i in range(order):\n",
    "    plt.semilogy(u, maxima[i, :], 'o-', label=('State %d' % (i+1)))\n",
    "    \n",
    "plt.grid(True)\n",
    "plt.title('State Maxima'); plt.ylabel('Peak value'); plt.xlabel('DC input')\n",
    "plt.xlim([0, 0.6]); plt.ylim([1e-6, 10]);\n",
    "plt.legend(loc=4);"
   ]
  },
  {
   "cell_type": "markdown",
   "metadata": {},
   "source": [
    "## Scaled modulator\n",
    "### Calculate the scaled coefficients"
   ]
  },
  {
   "cell_type": "code",
   "execution_count": 17,
   "metadata": {},
   "outputs": [
    {
     "name": "stdout",
     "output_type": "stream",
     "text": [
      "\n",
      "Scaled modulator, umax = 0.58\n",
      "\n"
     ]
    },
    {
     "name": "stderr",
     "output_type": "stream",
     "text": [
      "C:\\Users\\yuki1\\.julia\\conda\\3\\envs\\dev_python\\lib\\site-packages\\deltasigma-0.2.2-py3.7.egg\\deltasigma\\_mapABCD.py:65: FutureWarning: Using a non-tuple sequence for multidimensional indexing is deprecated; use `arr[tuple(seq)]` instead of `arr[seq]`. In the future this will be interpreted as an array index, `arr[np.array(seq)]`, which will result either in an error or a different result.\n",
      "  g = -ABCD[supdiag]\n"
     ]
    }
   ],
   "source": [
    "ABCDs, umax, _ = scaleABCD(ABCD, N_sim=1e5)\n",
    "as_, gs, bs, cs = mapABCD(ABCDs)\n",
    "print('\\nScaled modulator, umax = %.2f\\n' % umax)"
   ]
  },
  {
   "cell_type": "code",
   "execution_count": 18,
   "metadata": {},
   "outputs": [
    {
     "data": {
      "text/html": [
       "<table><tr><td><b>Coefficients</b></td><td><b>DAC feedback</b></td><td><b>Resonator feedback</b></td><td><b>Feed-in</b></td><td><b>Interstage</b></td></tr><tr><td><b></b></td><td><b>a(n)</b></td><td><b>g(n)</b></td><td><b> b(n)</b></td><td><b> c(n)</b></td></tr><tr><td><b>#1</b></td><td>0.100298</td><td>0.008508</td><td>0.100298</td><td>0.135347</td></tr><tr><td><b>#2</b></td><td>0.174656</td><td>0.010817</td><td>0.000000</td><td>0.190649</td></tr><tr><td><b>#3</b></td><td>0.214165</td><td><b></b></td><td>0.000000</td><td>0.380271</td></tr><tr><td><b>#4</b></td><td>0.365304</td><td><b></b></td><td>0.000000</td><td>0.424567</td></tr><tr><td><b>#5</b></td><td>0.348852</td><td><b></b></td><td>0.000000</td><td>1.596478</td></tr><tr><td><b>#6</b></td><td><b></b></td><td><b></b></td><td>0.000000</td><td><b></b></td></tr></table>"
      ],
      "text/plain": [
       "[['Coefficients',\n",
       "  'DAC feedback',\n",
       "  'Resonator feedback',\n",
       "  'Feed-in',\n",
       "  'Interstage'],\n",
       " ['', 'a(n)', 'g(n)', ' b(n)', ' c(n)'],\n",
       " ('#1',\n",
       "  0.10029776281151219,\n",
       "  0.008508036472782992,\n",
       "  0.10029776281151219,\n",
       "  0.13534708993995068),\n",
       " ('#2', 0.17465586699408295, 0.01081726217488968, 0.0, 0.19064921465587772),\n",
       " ('#3', 0.21416477448386773, '', 0.0, 0.3802708889064009),\n",
       " ('#4', 0.365303624442049, '', 0.0, 0.4245670860491754),\n",
       " ('#5', 0.3488522641283077, '', 0.0, 1.5964784308947626),\n",
       " ('#6', '', '', 0.0, '')]"
      ]
     },
     "execution_count": 18,
     "metadata": {},
     "output_type": "execute_result"
    }
   ],
   "source": [
    "t = Table()\n",
    "ilabels = ['#1', '#2', '#3', '#4', '#5', '#6']\n",
    "t.append(['Coefficients', 'DAC feedback', 'Resonator feedback', \n",
    "          'Feed-in', 'Interstage'])\n",
    "t.append(['', 'a(n)', 'g(n)', ' b(n)', ' c(n)'])\n",
    "[t.append(x) for x in zip_longest(ilabels, as_.tolist(), gs.tolist(), bs.tolist(), cs.tolist(), fillvalue=\"\")]\n",
    "t"
   ]
  },
  {
   "cell_type": "markdown",
   "metadata": {},
   "source": [
    "### Calculate the state maxima"
   ]
  },
  {
   "cell_type": "code",
   "execution_count": 19,
   "metadata": {},
   "outputs": [
    {
     "name": "stdout",
     "output_type": "stream",
     "text": [
      "The state maxima have been re-evaluated through simulation.\n",
      "The maximum input was found to be 0.583333\n"
     ]
    }
   ],
   "source": [
    "u = np.linspace(0, umax, 30)\n",
    "N = 10000\n",
    "T = np.ones((N,))\n",
    "maxima = np.zeros((order, len(u)))\n",
    "for i in range(len(u)):\n",
    "    ui = u[i]\n",
    "    v, xn, xmax, _ = simulateDSM(ui*T, ABCDs)\n",
    "    maxima[:, i] = xmax.squeeze()\n",
    "    if any(xmax > 1e2):\n",
    "        umax = ui;\n",
    "        u = u[:i]\n",
    "        maxima = maxima[:, :i]\n",
    "        break\n",
    "print('The state maxima have been re-evaluated through simulation.')\n",
    "print(\"The maximum input was found to be %.6f\" % umax)"
   ]
  },
  {
   "cell_type": "markdown",
   "metadata": {},
   "source": [
    "### Plot of the state maxima after scaling"
   ]
  },
  {
   "cell_type": "code",
   "execution_count": 20,
   "metadata": {},
   "outputs": [
    {
     "data": {
      "image/png": "[encoded data removed]",
      "text/plain": [
       "<Figure size 432x288 with 1 Axes>"
      ]
     },
     "metadata": {
      "needs_background": "light"
     },
     "output_type": "display_data"
    }
   ],
   "source": [
    "for i in range(order):\n",
    "    plt.semilogy(u, maxima[i, :], 'o-', label=('State %d' % (i+1)))\n",
    "    \n",
    "plt.grid(True)\n",
    "plt.title('State Maxima'); plt.ylabel('Peak value'); plt.xlabel('DC input')\n",
    "plt.xlim([0, 0.6]); plt.ylim([6e-2, 1.2]);\n",
    "plt.legend(loc=4);"
   ]
  },
  {
   "cell_type": "markdown",
   "metadata": {},
   "source": [
    "### System version information"
   ]
  },
  {
   "cell_type": "code",
   "execution_count": 21,
   "metadata": {},
   "outputs": [
    {
     "data": {
      "application/json": {
       "Software versions": [
        {
         "module": "Python",
         "version": "3.7.9 64bit [MSC v.1916 64 bit (AMD64)]"
        },
        {
         "module": "IPython",
         "version": "7.18.1"
        },
        {
         "module": "OS",
         "version": "Windows 10 10.0.18362 SP0"
        },
        {
         "module": "numpy",
         "version": "1.19.1"
        },
        {
         "module": "scipy",
         "version": "1.5.2"
        },
        {
         "module": "matplotlib",
         "version": "3.3.1"
        },
        {
         "module": "deltasigma",
         "version": "0.2.2"
        }
       ]
      },
      "text/html": [
       "<table><tr><th>Software</th><th>Version</th></tr><tr><td>Python</td><td>3.7.9 64bit [MSC v.1916 64 bit (AMD64)]</td></tr><tr><td>IPython</td><td>7.18.1</td></tr><tr><td>OS</td><td>Windows 10 10.0.18362 SP0</td></tr><tr><td>numpy</td><td>1.19.1</td></tr><tr><td>scipy</td><td>1.5.2</td></tr><tr><td>matplotlib</td><td>3.3.1</td></tr><tr><td>deltasigma</td><td>0.2.2</td></tr><tr><td colspan='2'>Sun Sep 13 15:08:29 2020 ???? (?W???)</td></tr></table>"
      ],
      "text/latex": [
       "\\begin{tabular}{|l|l|}\\hline\n",
       "{\\bf Software} & {\\bf Version} \\\\ \\hline\\hline\n",
       "Python & 3.7.9 64bit [MSC v.1916 64 bit (AMD64)] \\\\ \\hline\n",
       "IPython & 7.18.1 \\\\ \\hline\n",
       "OS & Windows 10 10.0.18362 SP0 \\\\ \\hline\n",
       "numpy & 1.19.1 \\\\ \\hline\n",
       "scipy & 1.5.2 \\\\ \\hline\n",
       "matplotlib & 3.3.1 \\\\ \\hline\n",
       "deltasigma & 0.2.2 \\\\ \\hline\n",
       "\\hline \\multicolumn{2}{|l|}{Sun Sep 13 15:08:29 2020 ???? (?W???)} \\\\ \\hline\n",
       "\\end{tabular}\n"
      ],
      "text/plain": [
       "Software versions\n",
       "Python 3.7.9 64bit [MSC v.1916 64 bit (AMD64)]\n",
       "IPython 7.18.1\n",
       "OS Windows 10 10.0.18362 SP0\n",
       "numpy 1.19.1\n",
       "scipy 1.5.2\n",
       "matplotlib 3.3.1\n",
       "deltasigma 0.2.2\n",
       "Sun Sep 13 15:08:29 2020 ???? (?W???)"
      ]
     },
     "execution_count": 21,
     "metadata": {},
     "output_type": "execute_result"
    }
   ],
   "source": [
    "#%install_ext http://raw.github.com/jrjohansson/version_information/master/version_information.py\n",
    "%load_ext version_information\n",
    "%reload_ext version_information\n",
    "\n",
    "%version_information numpy, scipy, matplotlib, deltasigma"
   ]
  },
  {
   "cell_type": "code",
   "execution_count": null,
   "metadata": {},
   "outputs": [],
   "source": []
  }
 ],
 "metadata": {
  "kernelspec": {
   "display_name": "Python 3",
   "language": "python",
   "name": "python3"
  },
  "language_info": {
   "codemirror_mode": {
    "name": "ipython",
    "version": 3
   },
   "file_extension": ".py",
   "mimetype": "text/x-python",
   "name": "python",
   "nbconvert_exporter": "python",
   "pygments_lexer": "ipython3",
   "version": "3.7.9"
  }
 },
 "nbformat": 4,
 "nbformat_minor": 1
}
